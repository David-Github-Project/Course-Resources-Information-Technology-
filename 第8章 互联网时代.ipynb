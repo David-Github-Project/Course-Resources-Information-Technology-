{
 "cells": [
  {
   "cell_type": "code",
   "execution_count": 2,
   "metadata": {},
   "outputs": [
    {
     "name": "stdout",
     "output_type": "stream",
     "text": [
      "['豆瓣摄影', '流行', '轻音乐', '摇滚', '古典', '电子', '世界音乐', '民谣', '说唱', '爵士', '原声']\n",
      "['https://ypy.douban.com', '/artists/genre_page/6/', '/artists/genre_page/2/', '/artists/genre_page/8/', '/artists/genre_page/1/', '/artists/genre_page/3/', '/artists/genre_page/10/', '/artists/genre_page/4/', '/artists/genre_page/7/', '/artists/genre_page/5/', '/artists/genre_page/9/']\n",
      "['https://ypy.douban.com', '/artists/genre_page/5/', '/artists/genre_page/9/']\n"
     ]
    }
   ],
   "source": [
    "#\n",
    "\"\"\"\n",
    "我们爬取一下豆瓣音乐专区，其中url便是我们要爬取的网址，\n",
    "而tree.xpath()中的内容便是该网址中我们要获取的数据，\n",
    "显而易见，该程序爬取了三部分内容，//tr//a/text()便是需要抓取内容的路径，\n",
    "意思是所有标签下的tr标签的所有a标签的文本内容，\n",
    "是不是有点绕口，其实这就是一个相对路径，注意一个‘/’和两个‘/’的区别，\n",
    "可以分别理解成绝对路径和“所有”~~\n",
    "\n",
    "\"\"\"\n",
    "import requests\n",
    "from lxml import html\n",
    "url='https://music.douban.com/' #需要爬的网址\n",
    "page=requests.Session().get(url) \n",
    "tree=html.fromstring(page.text) \n",
    "result=tree.xpath('//tr//a/text()') #需要获取的数据\n",
    "result1=tree.xpath('//tr//a/@href')\n",
    "result2=tree.xpath('//tr[last()]//a/@href')\n",
    "print(result)\n",
    "print(result1)\n",
    "print(result2)"
   ]
  },
  {
   "cell_type": "code",
   "execution_count": 10,
   "metadata": {},
   "outputs": [
    {
     "name": "stdout",
     "output_type": "stream",
     "text": [
      "<!DOCTYPE HTML>\n",
      "<html lang=\"zh-CN\">\n",
      "<head>\n",
      "  <meta charset=\"UTF-8\">\n",
      "  <title>京东(JD.COM)-正品低价、品质保障、配送及时、轻松购物！</title>\n",
      "  <meta name=\"description\" content=\"京东JD.COM-专业的综合网上购物商城，为您提供正品低价的购物选择、优质便捷的服务体验。商品来自全球数十万品牌商家，囊括家电、手机、电脑、服装、居家、母婴、美妆、个护、食品、生鲜等丰富品类，满足各种购物需求。\" />\n",
      "  <meta name=\"Keywords\" content=\"网上购物,网上商城,家电,手机,电脑,服装,居家,母婴,美妆,个护,食品,生鲜,京东\" />\n",
      "  <script type=\"text/javascript\">\n",
      "    window.pageConfig = {\n",
      "      compatible: true,\n",
      "      preload: false,\n",
      "      navId: \"jdhome2016\",\n",
      "\t  timestamp: 1550396139\n"
     ]
    }
   ],
   "source": [
    "#【例8-1】用Python实现一个最简单的爬虫程序\n",
    "import requests\n",
    "url = \"https://item.jd.com/\"\n",
    "try:\n",
    "    r = requests.get(url) #请求指定的URL，并返回\n",
    "    r.raise_for_status()\n",
    "    r.encoding = r.apparent_encoding\n",
    "    print(r.text[:500])\n",
    "except:\n",
    "    print(\"爬取失败\")"
   ]
  },
  {
   "cell_type": "code",
   "execution_count": 16,
   "metadata": {},
   "outputs": [
    {
     "name": "stdout",
     "output_type": "stream",
     "text": [
      "http://www.baidu.com/s?wd=Pthon\n",
      "447835\n"
     ]
    }
   ],
   "source": [
    "\"\"\"\n",
    "百度通过输入关键词获得搜索信息：\n",
    "只需要将其中的keyword替换为自己搜索的关键词即可 \n",
    "\"\"\"\n",
    "import requests\n",
    "keyword = \"Pthon\" #电影名称\n",
    "try:\n",
    "    kv = {'wd':keyword}\n",
    "    r = requests.get(\"http://www.baidu.com/s\",params=kv)\n",
    "    print(r.request.url)\n",
    "    r.raise_for_status()\n",
    "    print(len(r.text))\n",
    "except:\n",
    "    print(\"爬取失败\")"
   ]
  },
  {
   "cell_type": "code",
   "execution_count": null,
   "metadata": {},
   "outputs": [],
   "source": []
  }
 ],
 "metadata": {
  "kernelspec": {
   "display_name": "Python 3",
   "language": "python",
   "name": "python3"
  },
  "language_info": {
   "codemirror_mode": {
    "name": "ipython",
    "version": 3
   },
   "file_extension": ".py",
   "mimetype": "text/x-python",
   "name": "python",
   "nbconvert_exporter": "python",
   "pygments_lexer": "ipython3",
   "version": "3.6.0"
  }
 },
 "nbformat": 4,
 "nbformat_minor": 2
}
