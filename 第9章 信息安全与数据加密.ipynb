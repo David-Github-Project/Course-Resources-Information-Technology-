{
 "cells": [
  {
   "cell_type": "code",
   "execution_count": 1,
   "metadata": {},
   "outputs": [
    {
     "name": "stdout",
     "output_type": "stream",
     "text": [
      "lipps"
     ]
    }
   ],
   "source": [
    "#【例9-1】凯撒密码示例\n",
    "#设明文为'hello'，k=4\n",
    "plaintext = 'hello'\n",
    "for p in plaintext:\n",
    "    if ord(\"a\") <= ord(p) <= ord(\"z\"):\n",
    "        print(chr(ord(\"a\") + (ord(p) - ord(\"a\") + 4)%26), end='')\n",
    "    else:\n",
    "        print(p, end=\"\")"
   ]
  },
  {
   "cell_type": "code",
   "execution_count": 2,
   "metadata": {},
   "outputs": [
    {
     "name": "stdout",
     "output_type": "stream",
     "text": [
      "Cenoonommstmme oo snnio. s s c\n",
      "Common sense is not so common.\n"
     ]
    }
   ],
   "source": [
    "import  math\n",
    "def     transpostionEncrypt(msg,key):#加密\n",
    "        size = len(msg)\n",
    "        result = []\n",
    "        for i in range(key):\n",
    "            t = i\n",
    "            while t<size:\n",
    "                result.append(msg[t])\n",
    "                t+=key\n",
    "        return ''.join(result)\n",
    "def     transpostionDecrypt(msg,key):#解密\n",
    "        numOfColums = int(math.ceil(len(msg)/float(key)))\n",
    "        numOfRows = key\n",
    "        sharedBox = numOfColums*numOfRows - len(msg)\n",
    "        row = 0\n",
    "        col = 0\n",
    "        result = ['']*numOfColums\n",
    "        for i in msg:\n",
    "            result[col] += i\n",
    "            col+=1\n",
    "            if col==numOfColums or (col==numOfColums-1 and row>=numOfRows-sharedBox):\n",
    "                col=0\n",
    "                row+=1\n",
    "        return ''.join(result)\n",
    "\n",
    "def     main():\n",
    "\n",
    "        cipher = transpostionEncrypt(\"Common sense is not so common.\",8)\n",
    "        print(cipher)\n",
    "        print(transpostionDecrypt(cipher,8))\n",
    "if      __name__==\"__main__\":\n",
    "        main()"
   ]
  },
  {
   "cell_type": "code",
   "execution_count": 2,
   "metadata": {},
   "outputs": [
    {
     "name": "stdout",
     "output_type": "stream",
     "text": [
      "b'5a2bd80fa8f8ff40'\n",
      "b'Hello'\n"
     ]
    }
   ],
   "source": [
    "#【例9-4】用Python实现对称加密算法DES\n",
    "from pyDes import des, CBC, PAD_PKCS5\n",
    "import binascii\n",
    "\n",
    "KEY='mHAxsLYz'\n",
    "\n",
    "def des_encrypt(s):\n",
    "    secret_key = KEY\n",
    "    iv = secret_key\n",
    "    k = des(secret_key, CBC, iv, pad=None, padmode=PAD_PKCS5)\n",
    "    en = k.encrypt(s, padmode=PAD_PKCS5)\n",
    "    return binascii.b2a_hex(en)\n",
    "\n",
    "def des_descrypt(s):\n",
    "    secret_key = KEY\n",
    "    iv = secret_key\n",
    "    k = des(secret_key, CBC, iv, pad=None, padmode=PAD_PKCS5)\n",
    "    de = k.decrypt(binascii.a2b_hex(s), padmode=PAD_PKCS5)\n",
    "    return de\n",
    "\n",
    "print(des_encrypt(\"Hello\")) #调用加密函数，传入明文\"Hello\"\n",
    "print(des_descrypt(des_encrypt(\"Hello\")))  #根据加密函数的返回值，进行解密，输出明文"
   ]
  },
  {
   "cell_type": "code",
   "execution_count": 4,
   "metadata": {},
   "outputs": [
    {
     "name": "stdout",
     "output_type": "stream",
     "text": [
      "PublicKey(116587419395363584415968112980007805561322828626278922588063986387720708213582331521208929045255406665374970335552326895564602051430965820173219851728916135733593281623927224612736260976090875353328371782759431102884610798473906594778237057393239479753052213779791626526769565856226434166472922733243447629251, 65537)\n",
      "PrivateKey(116587419395363584415968112980007805561322828626278922588063986387720708213582331521208929045255406665374970335552326895564602051430965820173219851728916135733593281623927224612736260976090875353328371782759431102884610798473906594778237057393239479753052213779791626526769565856226434166472922733243447629251, 65537, 79288055334411934592973416474952284875233203715050301047500066730254847873405320901174633680928841342688289483125062327163500212586449587334183850104753582087911741809759650192164260675507315831005130747581783422624147492026929283073756840008938975011467843903535717379641379541498879265192977855404359677473, 40548408271490930684560055123205790614752237965322112100431453086907690220927977074102186314610302480506035831924122951720470635248155305671819818321155970200021611, 2875265007068963390179636554688685796731511250181990020245525576840251675598904404169918105008393523318443175890709419482328639071182172607711241)\n",
      "公钥加密: b'8\\x7f\\x99`\\x0f<\\xd03`\\xcau6z\\xeb\\x84?r7.\\x1aq\\xba[\\xbd\\xb8\\xf9y\\x05hx\\x96\\xca\\xb1\\\\\\xe8\\xe1\\x93@\\xa0\\xa7v\\xbc\\x81\\xcaf\\xfd\\x91\\x9c\\xcc\\xd0/\\x88@@NS)\\xfbWR/\\xde\\x95\\x97j\\x9b\\xd3\\xbb\\xa2\\xd3\\xc8\\x12\\xdc\\xce0_\\x99\\xda#\\xd6R\\xfa\\x8a\\xa7\\x9e%(n\\x0e\\xc0\\xe1\\xd0\\xfc@3lv\\xff\\x1b\\'\\xd9PH\\x95m\\xb17\\x95\\xcf\\x11\\xb0\\x0e7\"\\x18\\xfc\\xf4\\x0b\\xb8\\xdbJ\\xa4L\\xdaT&\\xee\\x99'\n",
      "私钥解密: Hello\n"
     ]
    },
    {
     "data": {
      "text/plain": [
       "'SHA-1'"
      ]
     },
     "execution_count": 4,
     "metadata": {},
     "output_type": "execute_result"
    }
   ],
   "source": [
    "#【例9-5】 RSA算法的Python实现\n",
    "import rsa\n",
    "import base64\n",
    "# 生成公钥和私钥\n",
    "(pubkey, privkey) = rsa.newkeys(1024)\n",
    "\n",
    "print(pubkey)\n",
    "print(privkey)\n",
    "\n",
    "# 保存密钥\n",
    "with open('D:\\data_analysis\\public.pem','w+') as f:\n",
    "    f.write(pubkey.save_pkcs1().decode())\n",
    "\n",
    "with open('D:\\data_analysis\\private.pem','w+') as f:\n",
    "    f.write(privkey.save_pkcs1().decode())\n",
    "\n",
    "# 导入密钥\n",
    "with open('D:\\data_analysis\\public.pem','r') as f:\n",
    "    pubkey = rsa.PublicKey.load_pkcs1(f.read().encode()) \n",
    "\n",
    "with open('D:\\data_analysis\\private.pem','r') as f:\n",
    "    privkey = rsa.PrivateKey.load_pkcs1(f.read().encode())\n",
    "\n",
    "# 明文\n",
    "message = 'Hello'\n",
    "\n",
    "# 公钥加密\n",
    "crypto = rsa.encrypt(message.encode(), pubkey) #对明文进行加密\n",
    "print(\"公钥加密:\",crypto)\n",
    "# 私钥解密\n",
    "message = rsa.decrypt(crypto, privkey).decode() #对密文进行解码\n",
    "print(\"私钥解密:\",message)\n",
    "\n",
    "#私钥签名\n",
    "signature = rsa.sign(message.encode(), privkey,'SHA-1')\n",
    "# 公钥验证\n",
    "rsa.verify(message.encode(), signature, pubkey)"
   ]
  },
  {
   "cell_type": "code",
   "execution_count": 6,
   "metadata": {},
   "outputs": [
    {
     "name": "stdout",
     "output_type": "stream",
     "text": [
      "生成的签名: b'We4q+gYLkUlnCxuhcX5DoxV/tcFwamEcYY5PDelCJtj0ONuV6KV6F4ya1YVVFCUdUJz+Un6MjFLADnfnzodqTWEBvN1D2A/SBEJYgWdd7fJgBEylHU+kvQdUaI8N7MyzUt+TL5UNcS5AlkxSQfK5FBY1FO27OAF2juWXTdpvwVM='\n"
     ]
    },
    {
     "data": {
      "text/plain": [
       "'SHA-1'"
      ]
     },
     "execution_count": 6,
     "metadata": {},
     "output_type": "execute_result"
    }
   ],
   "source": [
    "#【例9-6】Python实现SHA1数据签名\n",
    "import rsa\n",
    "import base64\n",
    "#https://blog.csdn.net/jy692405180/article/details/52516161\n",
    "#用hashlib模块生成消息摘要,该模块未安装成\n",
    "# 生成公钥和私钥\n",
    "(pubkey, privkey) = rsa.newkeys(1024) #生成随机密钥\n",
    "\n",
    "#发信者用私钥生成\"数字签名\"\n",
    "signature = rsa.sign(message.encode(), privkey,'SHA-1') #SHA-1是安全散列算法\n",
    "print(\"生成的签名:\",base64.b64encode(signature))  #输出签名数据\n",
    "# 收信者用公钥对署名进行验证\n",
    "rsa.verify(message.encode(), signature,pubkey) "
   ]
  }
 ],
 "metadata": {
  "kernelspec": {
   "display_name": "Python 3",
   "language": "python",
   "name": "python3"
  },
  "language_info": {
   "codemirror_mode": {
    "name": "ipython",
    "version": 3
   },
   "file_extension": ".py",
   "mimetype": "text/x-python",
   "name": "python",
   "nbconvert_exporter": "python",
   "pygments_lexer": "ipython3",
   "version": "3.7.1"
  }
 },
 "nbformat": 4,
 "nbformat_minor": 2
}
