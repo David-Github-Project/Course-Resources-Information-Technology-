{
 "cells": [
  {
   "cell_type": "code",
   "execution_count": 6,
   "metadata": {},
   "outputs": [
    {
     "name": "stdout",
     "output_type": "stream",
     "text": [
      "{'Description': 'Intel(R) Dual Band Wireless-AC 3165', 'Default IP Gateway': ('192.168.2.1',), 'IP Address': ('192.168.2.131', 'fe80::f9ff:a57f:f606:879'), 'DHCP Server': '192.168.2.1', 'IP Subnet': ('255.255.255.0', '64'), 'MAC Address': '7C:67:A2:32:97:DB'}\n"
     ]
    }
   ],
   "source": [
    "#【例7-3】Python利用WMI方法获取本机网络配置信息\n",
    "import wmi #导入wmi模块\n",
    "c = wmi.WMI()  #实例化\n",
    "Network_Info={}\n",
    "for net in c.Win32_NetworkAdapterConfiguration(IPEnabled=True): #传入参数为True 将显示 IP 信息\n",
    "    Network_Info[\"Description\"]=net.Description\n",
    "    Network_Info[\"Default IP Gateway\"]=net.DefaultIPGateway\n",
    "    Network_Info[\"IP Address\"]=net.IPAddress\n",
    "    Network_Info[\"DHCP Server\"]=net.DHCPServer\n",
    "    Network_Info[\"IP Subnet\"]=net.IPSubnet\n",
    "    Network_Info[\"MAC Address\"]=net.MACAddress\n",
    "#print(net)\n",
    "print(Network_Info)"
   ]
  },
  {
   "cell_type": "code",
   "execution_count": 35,
   "metadata": {},
   "outputs": [
    {
     "name": "stdout",
     "output_type": "stream",
     "text": [
      "国家:中国\n",
      "省份:福建\n",
      "城市:厦门\n",
      "运营商:教育网\n",
      "\n"
     ]
    }
   ],
   "source": [
    "#【7-4】Python实现IP地址归属地查询\n",
    "import requests\n",
    "def get_ip_info(ip):\n",
    "    url='http://ip.taobao.com/service/getIpInfo.php?ip='#利用taobao接口进行查询\n",
    "    req = requests.get(url+ip)              \n",
    "    if  req.json()['code'] == 0 :\n",
    "        ip_info = req.json()['data']\n",
    "        country = ip_info['country']  #国家 \n",
    "        region = ip_info['region']    #地区\n",
    "        city = ip_info['city']        #城市\n",
    "        isp = ip_info['isp']          #运营商\n",
    "        print('国家:{}\\n省份:{}\\n城市:{}\\n运营商:{}\\n' \n",
    "              .format(country,region,city,isp))\n",
    "    else:\n",
    "        print(\"ERROR! ip:{}\".format(ip))\n",
    "get_ip_info(\"210.34.128.33\") #输入要查询的IP地址，字符型"
   ]
  },
  {
   "cell_type": "markdown",
   "metadata": {},
   "source": [
    "【例7-6】HTML5实现在Web页上播放视频\n",
    "<!DOCTYPE HTML>\n",
    "<html>\n",
    "<body>\n",
    "<video width=\"320\" height=\"240\" controls=\"controls\">\n",
    "  <source src=\"video_demo.mp4\" type=\"video/mp4\">\n",
    "Your browser does not support the video tag.\n",
    "</video>\n",
    "</body>\n",
    "</html>"
   ]
  },
  {
   "cell_type": "code",
   "execution_count": 5,
   "metadata": {},
   "outputs": [
    {
     "name": "stdout",
     "output_type": "stream",
     "text": [
      "David -43\n",
      "TP-LINK_3 -81\n",
      "Louis -84\n",
      "Louis -90\n",
      "MERCURY_5G_A9BF -67\n",
      "chenâs -88\n",
      "chenâs -74\n",
      "chenâs -75\n",
      "chenâs -67\n",
      "TP-LINK_6511 -84\n",
      "qihui40-101 plus -93\n",
      "ChinaNet-vV23 -85\n",
      "Memory -88\n",
      "Memory -80\n",
      "TP-LINK_3 -81\n",
      "ChinaNet-XqeD -63\n",
      "David -43\n",
      "xll-2nd -77\n"
     ]
    }
   ],
   "source": [
    "#【例7-8】Python获取周围WIFI信息\n",
    "\"\"\"\n",
    "安装模块依赖关系\n",
    "pip uninstall comtypes\n",
    "pip uninstall pywifi\n",
    "\"\"\"\n",
    "import pywifi #导入模块\n",
    "wifi = pywifi.PyWiFi() #创建一个无限对象\n",
    "iface = wifi.interfaces()[0]  #取一个无限网卡\n",
    "iface.scan() #扫描\n",
    "result=iface.scan_results() #获得扫描结果\n",
    "for i in range(len(result)):\n",
    "    print(result[i].ssid, result[i].signal) #输出wifi名称与信号强度"
   ]
  },
  {
   "cell_type": "code",
   "execution_count": null,
   "metadata": {},
   "outputs": [],
   "source": []
  }
 ],
 "metadata": {
  "kernelspec": {
   "display_name": "Python 3",
   "language": "python",
   "name": "python3"
  },
  "language_info": {
   "codemirror_mode": {
    "name": "ipython",
    "version": 3
   },
   "file_extension": ".py",
   "mimetype": "text/x-python",
   "name": "python",
   "nbconvert_exporter": "python",
   "pygments_lexer": "ipython3",
   "version": "3.7.1"
  }
 },
 "nbformat": 4,
 "nbformat_minor": 2
}
