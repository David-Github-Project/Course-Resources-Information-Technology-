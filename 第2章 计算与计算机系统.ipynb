{
 "cells": [
  {
   "cell_type": "code",
   "execution_count": 2,
   "metadata": {},
   "outputs": [
    {
     "name": "stdout",
     "output_type": "stream",
     "text": [
      "{'CPU_ID': 'BFEBFBFF000806E9', 'CPU_Type': 'Intel(R) Core(TM) i7-7500U CPU @ 2.70GHz', 'CPU_Process': 'GenuineIntel', 'CPU_Cores': 2, 'LogicalProcessors': 4, 'Thread Count': 4, 'CPU_MaxClockSpeed': 2901, 'Data_Width': 64}\n"
     ]
    }
   ],
   "source": [
    "#【例2-1】Python使用WMI库获取本机处理器信息\n",
    "import wmi #导入wmi模块\n",
    "c = wmi.WMI()  #初始化\n",
    "CPU_Info = {} # 定义返回参数字典\n",
    "for cpu in c.Win32_Processor():     \n",
    "    CPU_Info[\"CPU_ID\"] = cpu.ProcessorId.strip()\n",
    "    CPU_Info[\"CPU_Type\"] = cpu.Name\n",
    "    CPU_Info[\"CPU_Process\"]=cpu.Manufacturer\n",
    "    CPU_Info[\"CPU_Cores\"] = cpu.NumberOfCores  #核心数量\n",
    "    CPU_Info[\"LogicalProcessors\"]=cpu.NumberOfLogicalProcessors  #逻辑处理器数量\n",
    "    CPU_Info[\"Thread Count\"]=cpu.ThreadCount#每个处理器插槽的线程数\n",
    "    CPU_Info[\"CPU_MaxClockSpeed\"] = cpu.MaxClockSpeed #处理器的最大速度，以MHz为单位\n",
    "    CPU_Info['Data_Width'] = cpu.DataWidth  #64位处理器是64\n",
    "print(CPU_Info)   #输出CPU信息"
   ]
  },
  {
   "cell_type": "code",
   "execution_count": 3,
   "metadata": {},
   "outputs": [
    {
     "name": "stdout",
     "output_type": "stream",
     "text": [
      "{'UUID': 'FAF76B95-798C-11D2-AAD1-006008C78BC7', 'Manufacturer': 'Dell Inc.', 'Product': '04PYT3', 'SystemType': 'x64-based PC'}\n"
     ]
    }
   ],
   "source": [
    "#【例2-2】Python使用Win32_BaseBoard()方法获取本机主板信息\n",
    "import os,sys\n",
    "import wmi #导入wmi模块\n",
    "c = wmi.WMI()  #初始化\n",
    "board_Info = {}\n",
    "for board_id in c.Win32_BaseBoard():\n",
    "    board_Info['UUID'] = board_id.qualifiers['UUID'][1:-1] #主板UUID\n",
    "    #board_Info['SerialNumber'] = board_id.SerialNumber     #主板序列号\n",
    "    board_Info['Manufacturer'] = board_id.Manufacturer     #主板生产品牌厂家\n",
    "    board_Info['Product'] = board_id.Product               #主板型号\n",
    "    #board_Info['Model'] = board_id.Model \n",
    "for pro in c.Win32_ComputerSystem():                       #主板架构类型\n",
    "    #board_Info['Processors:']=pro.NumberOfProcessors\n",
    "    board_Info['SystemType'] = pro.SystemType\n",
    "print(board_Info)"
   ]
  },
  {
   "cell_type": "code",
   "execution_count": 4,
   "metadata": {},
   "outputs": [
    {
     "name": "stdout",
     "output_type": "stream",
     "text": [
      "{'Caption': '物理内存', 'Capacity': 16.0, 'Clock Speed': 2133, 'Data Width': 64, 'Speed': 2400}\n"
     ]
    }
   ],
   "source": [
    "#【例2-3】Python使用Win32_PhysicalMemory()方法获取内存信息\n",
    "import os,sys\n",
    "import wmi #导入wmi模块\n",
    "c = wmi.WMI()  #初始化\n",
    "memo_info={}\n",
    "for mem in c.Win32_PhysicalMemory():\n",
    "    #print(mem)\n",
    "    memo_info[\"Caption\"]=mem.Caption\n",
    "    memo_info[\"Capacity\"]=int(mem.Capacity)/(1024**3)\n",
    "    memo_info[\"Clock Speed\"]=mem.ConfiguredClockSpeed\n",
    "    memo_info[\"Data Width\"]=mem.DataWidth\n",
    "    memo_info[\"Speed\"]=mem.Speed     #内存存取速度\n",
    "print(memo_info)"
   ]
  },
  {
   "cell_type": "code",
   "execution_count": 5,
   "metadata": {},
   "outputs": [
    {
     "name": "stdout",
     "output_type": "stream",
     "text": [
      "{'Manufacturer': '(标准磁盘驱动器)', 'Interface Type': 'IDE', 'Partitions': 4, 'Creation Class Name': 'Win32_LogicalDisk', 'DeviceID': 'C:', 'File System:': 'NTFS', 'Disk Size': 106, 'Disk Free Space': 24}\n"
     ]
    }
   ],
   "source": [
    "#【例2-4】Python使用Win32_DiskDrive()方法获取磁盘信息\n",
    "import wmi #导入wmi模块\n",
    "c = wmi.WMI()  #类实例化\n",
    "disk_info={}\n",
    "for disk in c.Win32_DiskDrive():\n",
    "    disk_info[\"Manufacturer\"]=disk.Manufacturer\n",
    "    disk_info[\"Interface Type\"]=disk.InterfaceType \n",
    "    disk_info[\"Partitions\"]=disk.Partitions\n",
    "for disk in c.Win32_LogicalDisk(DeviceID = \"C:\"):\n",
    "    disk_info[\"Creation Class Name\"]=disk.CreationClassName\n",
    "    disk_info[\"DeviceID\"]=disk.DeviceID \n",
    "    disk_info[\"File System:\"]=disk.FileSystem\n",
    "    disk_info[\"Disk Size\"]=round(int(disk.Size)/(1024**3))\n",
    "    disk_info[\"Disk Free Space\"]=round(int(disk.FreeSpace)/(1024**3)) \n",
    "    #print(disk)\n",
    "print(disk_info)"
   ]
  },
  {
   "cell_type": "code",
   "execution_count": 6,
   "metadata": {},
   "outputs": [
    {
     "name": "stdout",
     "output_type": "stream",
     "text": [
      "{'Video Processor': 'GeForce 940MX', 'Adapter RAM:': -2.0, 'Adapter DAC Type:': 'Integrated RAMDAC'}\n"
     ]
    }
   ],
   "source": [
    "#【例2-5】Python利用Win32_VideoController()方法获取视频适配器信息\n",
    "import os,sys\n",
    "import wmi #导入wmi模块\n",
    "c = wmi.WMI()  #实例化\n",
    "adapter_info={}\n",
    "for v in c.Win32_VideoController():\n",
    "    #print(v)\n",
    "    adapter_info[\"Video Processor\"]=v.VideoProcessor\n",
    "    adapter_info[\"Adapter RAM:\"]=int(v.AdapterRAM)/(1024**3) \n",
    "    adapter_info[\"Adapter DAC Type:\"]=v.AdapterDACType \n",
    "    #adapter_info[\"Video Mode Description\"]=v.VideoModeDescription\n",
    "    #adapter_info[\"Installed Display Drivers\"]=v.InstalledDisplayDrivers\n",
    "print(adapter_info)"
   ]
  },
  {
   "cell_type": "markdown",
   "metadata": {},
   "source": [
    "# 以下程序为利用psutil库获取系统信息"
   ]
  },
  {
   "cell_type": "code",
   "execution_count": 8,
   "metadata": {},
   "outputs": [
    {
     "name": "stdout",
     "output_type": "stream",
     "text": [
      "CPU物理个数: 2\n",
      "CPU逻辑个数(多核数): 4\n",
      "CPU利用率15.4%\n"
     ]
    }
   ],
   "source": [
    "#ch2-计算CPU核心数\n",
    "\"\"\"CPU总核数 = 物理CPU个数 * 每颗物理CPU的核数。\n",
    "代码中，psutil.cpu_percent(interval=3)表示3秒内CPU使用率。\n",
    "\"\"\"\n",
    "import psutil #导入psutil模块\n",
    "print(\"CPU物理个数:\",psutil.cpu_count(logical=False))\n",
    "print(\"CPU逻辑个数(多核数):\",psutil.cpu_count())\n",
    "print(\"CPU利用率{}%\".format(psutil.cpu_percent(interval=3)))"
   ]
  },
  {
   "cell_type": "code",
   "execution_count": 9,
   "metadata": {},
   "outputs": [
    {
     "name": "stdout",
     "output_type": "stream",
     "text": [
      "C:\\\n",
      "D:\\\n",
      "E:\\\n",
      "磁盘容量:105.6GB  已使用容量:81.5GB  剩余容量:24.1GB\n"
     ]
    }
   ],
   "source": [
    "#ch2-  利用psutil库读取硬盘信息\n",
    "import psutil\n",
    "GB=1024**3\n",
    "disk_part=psutil.disk_partitions()\n",
    "for disk in disk_part:\n",
    "    print(disk.device)\n",
    "disk_info=psutil.disk_usage('/')\n",
    "print(\"磁盘容量:{0:.1f}GB\".format(disk_info.total/GB),end=\"  \")\n",
    "print(\"已使用容量:{0:.1f}GB\".format(disk_info.used/GB),end=\"  \")\n",
    "print(\"剩余容量:{0:.1f}GB\".format(disk_info.free/GB))"
   ]
  },
  {
   "cell_type": "code",
   "execution_count": 10,
   "metadata": {},
   "outputs": [
    {
     "name": "stdout",
     "output_type": "stream",
     "text": [
      "用户时间:8.37%\n",
      "内核时间:13.13%\n",
      "空闲时间:77.70%\n"
     ]
    }
   ],
   "source": [
    "#CPU执行用户进程所花费的时间\n",
    "import psutil\n",
    "cts = psutil.cpu_times()\n",
    "cputime = 0\n",
    "for item in cts:\n",
    "    if item != 0:\n",
    "        cputime = cputime + item\n",
    "        \n",
    "print(\"用户时间:{0:.2f}%\".format(cts.user/cputime * 100)) #CPU执行用户进程所花费的时间\n",
    "print(\"内核时间:{0:.2f}%\".format(cts.system/cputime * 100))#system：CPU在内核运行时间\n",
    "print(\"空闲时间:{0:.2f}%\".format(cts.idle/cputime * 100))  #系统处于空闲时间\n"
   ]
  },
  {
   "cell_type": "code",
   "execution_count": 11,
   "metadata": {},
   "outputs": [
    {
     "name": "stdout",
     "output_type": "stream",
     "text": [
      "物理内存总容量:15GB\n",
      "已使用物理内存:7GB\n",
      "剩余内存容量:8GB\n",
      "系统的内存利用率48.4%\n"
     ]
    }
   ],
   "source": [
    "#利用psutil库获取系统的内存利用率\n",
    "import psutil\n",
    "mem = psutil.virtual_memory()\n",
    "mem_used=int(mem.used/(1024**3))\n",
    "mem_total=int(mem.total/(1024**3))\n",
    "mem_free=int(mem.free/(1024**3))\n",
    "print(\"物理内存总容量:{}GB\".format(mem_total))\n",
    "print(\"已使用物理内存:{}GB\".format(mem_used))\n",
    "print(\"剩余内存容量:{}GB\".format(mem_free))\n",
    "print(\"系统的内存利用率{}%\".format(mem.percent))"
   ]
  }
 ],
 "metadata": {
  "kernelspec": {
   "display_name": "Python 3",
   "language": "python",
   "name": "python3"
  },
  "language_info": {
   "codemirror_mode": {
    "name": "ipython",
    "version": 3
   },
   "file_extension": ".py",
   "mimetype": "text/x-python",
   "name": "python",
   "nbconvert_exporter": "python",
   "pygments_lexer": "ipython3",
   "version": "3.7.1"
  }
 },
 "nbformat": 4,
 "nbformat_minor": 2
}
