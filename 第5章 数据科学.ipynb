{
 "cells": [
  {
   "cell_type": "code",
   "execution_count": 1,
   "metadata": {},
   "outputs": [
    {
     "name": "stdout",
     "output_type": "stream",
     "text": [
      "('S01001', '王小闽', '男', datetime.date(2000, 10, 1), 'P01')\n",
      "('S01002', '陈京生', '男', datetime.date(1998, 8, 9), 'P01')\n",
      "('S02002', '赵莉莉', '女', datetime.date(1999, 2, 16), 'P02')\n",
      "('S05001', '白云', '女', datetime.date(2000, 6, 1), 'P05')\n",
      "共查找出 4 条数据\n"
     ]
    }
   ],
   "source": [
    "#第5章 数据库访问\n",
    "import pymysql\n",
    "# 连接数据库\n",
    "connect= pymysql.Connect(\n",
    "    host='127.0.0.1',port=3306, #port默认值\n",
    "    user='root',passwd='david618',db='scoredb',charset='utf8')\n",
    "cursor = connect.cursor() # 获取游标\n",
    "sql = \"SELECT * FROM student\" # SQL查询语句\n",
    "cursor.execute(sql)  # 执行SQL命令\n",
    "for row in cursor.fetchall(): #fetchall()返回多个记录,\n",
    "    print(row)\n",
    "print('共查找出', cursor.rowcount, '条数据')"
   ]
  }
 ],
 "metadata": {
  "kernelspec": {
   "display_name": "Python 3",
   "language": "python",
   "name": "python3"
  },
  "language_info": {
   "codemirror_mode": {
    "name": "ipython",
    "version": 3
   },
   "file_extension": ".py",
   "mimetype": "text/x-python",
   "name": "python",
   "nbconvert_exporter": "python",
   "pygments_lexer": "ipython3",
   "version": "3.6.0"
  }
 },
 "nbformat": 4,
 "nbformat_minor": 2
}
